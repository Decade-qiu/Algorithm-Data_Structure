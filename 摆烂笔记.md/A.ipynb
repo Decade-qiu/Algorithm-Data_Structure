{
 "cells": [
  {
   "cell_type": "code",
   "execution_count": 2,
   "metadata": {},
   "outputs": [
    {
     "name": "stdout",
     "output_type": "stream",
     "text": [
      "[59.71696666666667, 23.92833333333333, 15.551899999999998, 10.215539999999999, 8.44192]\n",
      "[28.747366666666668, 17.374533333333336, 12.569733333333332, 9.107396666666666, 8.44192]\n",
      "[6.073860764691761, 1.8344657771375863, 0.8422230961676963, 0.21009675524051394, 0.0]\n",
      "[2.4053114299432674, 1.0581257976068639, 0.4889661751513083, 0.07883001339347764, 0.0]\n"
     ]
    }
   ],
   "source": [
    "import math\n",
    "num = 152.163629 * 3\n",
    "t = [[54.5179,55.3979,49.0167],[163.668,174.036,141.829],[247.728,264.877,235.373],[383.311,433.747,374.585],[482.633,522.73,465.084]]\n",
    "p1 = [59.7365, 23.9862, 15.4424, 10.2745, 8.2921]\n",
    "p2 = [59.4973, 23.8802, 15.5882, 10.06202, 8.55466]\n",
    "p3 = [59.9171, 23.9186, 15.6251, 10.3101, 8.479]\n",
    "e1 = [28.9235, 17.4356, 12.5768, 9.12462, 8.2921]\n",
    "e2 = [28.5073, 17.3642, 12.5901, 9.10227, 8.55466]\n",
    "e3 = [28.8113, 17.3238, 12.5423, 9.0953, 8.479]\n",
    "p = [(i+j+k)/3 for i, j, k in zip(p1, p2, p3)]\n",
    "e = [(i+j+k)/3 for i, j, k in zip(e1, e2, e3)]\n",
    "print(p)\n",
    "print(e)\n",
    "b = p[4]\n",
    "a = e[4]\n",
    "p = [(i-b)/b for i in p]\n",
    "e = [(i-a)/a for i in e]\n",
    "print(p)\n",
    "print(e)"
   ]
  },
  {
   "cell_type": "markdown",
   "metadata": {},
   "source": []
  }
 ],
 "metadata": {
  "kernelspec": {
   "display_name": "Python 3.8.5 64-bit",
   "language": "python",
   "name": "python3"
  },
  "language_info": {
   "codemirror_mode": {
    "name": "ipython",
    "version": 3
   },
   "file_extension": ".py",
   "mimetype": "text/x-python",
   "name": "python",
   "nbconvert_exporter": "python",
   "pygments_lexer": "ipython3",
   "version": "3.8.5"
  },
  "orig_nbformat": 4,
  "vscode": {
   "interpreter": {
    "hash": "865d8b2eb28e274047ba64063dfb6a2aabf0dfec4905d304d7a76618dae6fdd4"
   }
  }
 },
 "nbformat": 4,
 "nbformat_minor": 2
}
