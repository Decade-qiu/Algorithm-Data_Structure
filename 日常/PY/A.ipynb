{
 "cells": [
  {
   "cell_type": "code",
   "execution_count": 1,
   "metadata": {},
   "outputs": [
    {
     "name": "stdout",
     "output_type": "stream",
     "text": [
      "0.8471929557781012\t0.7412506169092921\t0.6456755713014423\t0.5512350207874785\t0.497921140131215\t0.3788312519777171\t0.28950203696845217\t0.20032210695845762\t0.11312234309693756\t0.0\t"
     ]
    }
   ],
   "source": [
    "pkt = [55.2396, 32.6223, 23.8228, 18.8094, 16.8121, 13.5889, 11.8804, 10.5555, 9.51766, 8.441]\n",
    "\n",
    "elem = [27.416, 20.5525, 17.3998, 14.7123, 12.4634, 11.4325, 10.3262, 9.35439, 8.50448, 8.441]\n",
    "\n",
    "p_ = [(i-pkt[9])/i for i in pkt]\n",
    "\n",
    "e_ = [(i-elem[9])/i for i in elem]\n",
    "\n",
    "for i in p_:\n",
    "    print(i, end='\\t')\n",
    "\n",
    "print(math.pow())\n"
   ]
  }
 ],
 "metadata": {
  "kernelspec": {
   "display_name": "Python 3.8.5 64-bit",
   "language": "python",
   "name": "python3"
  },
  "language_info": {
   "codemirror_mode": {
    "name": "ipython",
    "version": 3
   },
   "file_extension": ".py",
   "mimetype": "text/x-python",
   "name": "python",
   "nbconvert_exporter": "python",
   "pygments_lexer": "ipython3",
   "version": "3.8.5"
  },
  "orig_nbformat": 4,
  "vscode": {
   "interpreter": {
    "hash": "865d8b2eb28e274047ba64063dfb6a2aabf0dfec4905d304d7a76618dae6fdd4"
   }
  }
 },
 "nbformat": 4,
 "nbformat_minor": 2
}
